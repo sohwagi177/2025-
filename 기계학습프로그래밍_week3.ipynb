{
  "nbformat": 4,
  "nbformat_minor": 0,
  "metadata": {
    "colab": {
      "provenance": []
    },
    "kernelspec": {
      "name": "python3",
      "display_name": "Python 3"
    },
    "language_info": {
      "name": "python"
    }
  },
  "cells": [
    {
      "cell_type": "code",
      "execution_count": 77,
      "metadata": {
        "id": "ifbXWsGi4YiA"
      },
      "outputs": [],
      "source": [
        "file_path = '/content/drive/MyDrive/winequality-red.csv'"
      ]
    },
    {
      "cell_type": "code",
      "metadata": {
        "colab": {
          "base_uri": "https://localhost:8080/"
        },
        "id": "5232877e",
        "outputId": "04086289-7fb5-484d-99b4-aaf74c7ad3bf"
      },
      "source": [
        "# 특징 데이터의 개수 확인\n",
        "num_features = X.shape[1]\n",
        "print(f'이 자료의 특징(feature) 수는 총 {num_features}개입니다.')"
      ],
      "execution_count": 92,
      "outputs": [
        {
          "output_type": "stream",
          "name": "stdout",
          "text": [
            "이 자료의 특징(feature) 수는 총 11개입니다.\n"
          ]
        }
      ]
    },
    {
      "cell_type": "code",
      "metadata": {
        "colab": {
          "base_uri": "https://localhost:8080/"
        },
        "id": "a0298751",
        "outputId": "2f8d3e44-aac6-4840-d19f-2825ef3c8f77"
      },
      "source": [
        "from sklearn.linear_model import LogisticRegression\n",
        "from sklearn.model_selection import train_test_split\n",
        "from sklearn.metrics import accuracy_score, precision_score, recall_score, f1_score\n",
        "\n",
        "# 각 특징별 로지스틱 회귀 분석 결과를 저장할 딕셔너리\n",
        "feature_analysis_results = {}\n",
        "\n",
        "# 각 특징에 대해 로지스틱 회귀 분석 수행\n",
        "for feature in features_list:\n",
        "    print(f\"\\n--- 특징: {feature} ---\")\n",
        "\n",
        "    # 해당 특징만 선택\n",
        "    X_single_feature = X_clf[[feature]]\n",
        "    y_single_feature = y_binary # 목표 변수는 동일하게 사용\n",
        "\n",
        "    # 데이터를 훈련 세트와 테스트 세트로 분할 (층화 분할)\n",
        "    X_train_single, X_test_single, y_train_single, y_test_single = train_test_split(\n",
        "        X_single_feature, y_single_feature, test_size=0.2, random_state=42, stratify=y_single_feature\n",
        "    )\n",
        "\n",
        "    # 로지스틱 회귀 모델 정의 및 훈련\n",
        "    # 단일 특징이므로 max_iter를 기본값으로 사용하거나 필요시 조정\n",
        "    try:\n",
        "        model_single = LogisticRegression(random_state=42, max_iter=200)\n",
        "        model_single.fit(X_train_single, y_train_single)\n",
        "\n",
        "        # 테스트 데이터에 대한 예측 수행\n",
        "        y_pred_single = model_single.predict(X_test_single)\n",
        "\n",
        "        # 모델 평가 지표 계산\n",
        "        accuracy_single = accuracy_score(y_test_single, y_pred_single)\n",
        "        precision_single = precision_score(y_test_single, y_pred_single)\n",
        "        recall_single = recall_score(y_test_single, y_pred_single)\n",
        "        f1_single = f1_score(y_test_single, y_pred_single)\n",
        "\n",
        "        # 결과 저장\n",
        "        feature_analysis_results[feature] = {\n",
        "            'Accuracy': accuracy_single,\n",
        "            'Precision': precision_single,\n",
        "            'Recall': recall_single,\n",
        "            'F1-score': f1_single\n",
        "        }\n",
        "\n",
        "        # 결과 출력\n",
        "        print(f'  정확도 (Accuracy): {accuracy_single:.4f}')\n",
        "        print(f'  정밀도 (Precision): {precision_single:.4f}')\n",
        "        print(f'  재현율 (Recall): {recall_single:.4f}')\n",
        "        print(f'  F1-점수 (F1-score): {f1_single:.4f}')\n",
        "\n",
        "    except Exception as e:\n",
        "        print(f\"  모델 훈련/평가 중 오류 발생: {e}\")\n",
        "        feature_analysis_results[feature] = {'Error': str(e)}"
      ],
      "execution_count": 104,
      "outputs": [
        {
          "output_type": "stream",
          "name": "stdout",
          "text": [
            "\n",
            "--- 특징: fixed acidity ---\n",
            "  정확도 (Accuracy): 0.5500\n",
            "  정밀도 (Precision): 0.5551\n",
            "  재현율 (Recall): 0.7953\n",
            "  F1-점수 (F1-score): 0.6538\n",
            "\n",
            "--- 특징: volatile acidity ---\n",
            "  정확도 (Accuracy): 0.6375\n",
            "  정밀도 (Precision): 0.6486\n",
            "  재현율 (Recall): 0.7018\n",
            "  F1-점수 (F1-score): 0.6742\n",
            "\n",
            "--- 특징: citric acid ---\n",
            "  정확도 (Accuracy): 0.5844\n",
            "  정밀도 (Precision): 0.5931\n",
            "  재현율 (Recall): 0.7076\n",
            "  F1-점수 (F1-score): 0.6453\n",
            "\n",
            "--- 특징: residual sugar ---\n",
            "  정확도 (Accuracy): 0.5344\n",
            "  정밀도 (Precision): 0.5344\n",
            "  재현율 (Recall): 1.0000\n",
            "  F1-점수 (F1-score): 0.6965\n",
            "\n",
            "--- 특징: chlorides ---\n",
            "  정확도 (Accuracy): 0.5531\n",
            "  정밀도 (Precision): 0.5458\n",
            "  재현율 (Recall): 0.9766\n",
            "  F1-점수 (F1-score): 0.7002\n",
            "\n",
            "--- 특징: free sulfur dioxide ---\n",
            "  정확도 (Accuracy): 0.5687\n",
            "  정밀도 (Precision): 0.5587\n",
            "  재현율 (Recall): 0.9181\n",
            "  F1-점수 (F1-score): 0.6947\n",
            "\n",
            "--- 특징: total sulfur dioxide ---\n",
            "  정확도 (Accuracy): 0.6250\n",
            "  정밀도 (Precision): 0.6186\n",
            "  재현율 (Recall): 0.7778\n",
            "  F1-점수 (F1-score): 0.6891\n",
            "\n",
            "--- 특징: density ---\n",
            "  정확도 (Accuracy): 0.5344\n",
            "  정밀도 (Precision): 0.5344\n",
            "  재현율 (Recall): 1.0000\n",
            "  F1-점수 (F1-score): 0.6965\n",
            "\n",
            "--- 특징: pH ---\n",
            "  정확도 (Accuracy): 0.5344\n",
            "  정밀도 (Precision): 0.5344\n",
            "  재현율 (Recall): 1.0000\n",
            "  F1-점수 (F1-score): 0.6965\n",
            "\n",
            "--- 특징: sulphates ---\n",
            "  정확도 (Accuracy): 0.6469\n",
            "  정밀도 (Precision): 0.6747\n",
            "  재현율 (Recall): 0.6550\n",
            "  F1-점수 (F1-score): 0.6647\n",
            "\n",
            "--- 특징: alcohol ---\n",
            "  정확도 (Accuracy): 0.7094\n",
            "  정밀도 (Precision): 0.7708\n",
            "  재현율 (Recall): 0.6491\n",
            "  F1-점수 (F1-score): 0.7048\n",
            "\n",
            "--- 특징: Cluster ---\n",
            "  정확도 (Accuracy): 0.5344\n",
            "  정밀도 (Precision): 0.5344\n",
            "  재현율 (Recall): 1.0000\n",
            "  F1-점수 (F1-score): 0.6965\n"
          ]
        }
      ]
    },
    {
      "cell_type": "code",
      "metadata": {
        "colab": {
          "base_uri": "https://localhost:8080/"
        },
        "id": "0929d8b5",
        "outputId": "b582ab77-5426-449c-b0a1-13f508890326"
      },
      "source": [
        "from sklearn.linear_model import LogisticRegression\n",
        "from sklearn.model_selection import train_test_split\n",
        "from sklearn.preprocessing import StandardScaler # 계수와 절편 해석을 위해 스케일링된 데이터를 사용한 모델 확인\n",
        "\n",
        "print(\"각 특징별 로지스틱 회귀 모델의 계수와 절편:\")\n",
        "\n",
        "# 각 특징에 대해 로지스틱 회귀 모델을 다시 훈련 (이전 셀에서 모델 객체가 저장되지 않음)\n",
        "# 스케일링된 데이터로 훈련하여 계수와 절편의 의미를 명확히 합니다.\n",
        "for feature in features_list:\n",
        "    # 해당 특징만 선택\n",
        "    X_single_feature = X_clf[[feature]]\n",
        "    y_single_feature = y_binary # 목표 변수는 동일하게 사용\n",
        "\n",
        "    # 특징 스케일링\n",
        "    scaler_coef = StandardScaler()\n",
        "    X_single_scaled_coef = scaler_coef.fit_transform(X_single_feature)\n",
        "\n",
        "    # 데이터를 훈련 세트와 테스트 세트로 분할 (층화 분할) - 훈련만 필요하므로 전체 데이터를 사용해도 무방\n",
        "    # 여기서는 이전 분석과 일관성을 위해 분할 후 훈련 세트 사용\n",
        "    X_train_single_coef, _, y_train_single_coef, _ = train_test_split(\n",
        "        X_single_scaled_coef, y_single_feature, test_size=0.2, random_state=42, stratify=y_single_feature\n",
        "    )\n",
        "\n",
        "    # 로지스틱 회귀 모델 정의 및 훈련\n",
        "    model_single_coef = LogisticRegression(random_state=42, max_iter=1000)\n",
        "    model_single_coef.fit(X_train_single_coef, y_train_single_coef)\n",
        "\n",
        "    # 모델의 계수와 절편 가져오기\n",
        "    coefficient = model_single_coef.coef_[0][0]\n",
        "    intercept = model_single_coef.intercept_[0]\n",
        "\n",
        "    print(f\"특징: {feature}: 계수 = {coefficient:.4f}, 절편 = {intercept:.4f}\")"
      ],
      "execution_count": 105,
      "outputs": [
        {
          "output_type": "stream",
          "name": "stdout",
          "text": [
            "각 특징별 로지스틱 회귀 모델의 계수와 절편:\n",
            "특징: fixed acidity: 계수 = 0.1857, 절편 = 0.1391\n",
            "특징: volatile acidity: 계수 = -0.7273, 절편 = 0.1337\n",
            "특징: citric acid: 계수 = 0.3121, 절편 = 0.1403\n",
            "특징: residual sugar: 계수 = 0.0300, 절편 = 0.1394\n",
            "특징: chlorides: 계수 = -0.2513, 절편 = 0.1318\n",
            "특징: free sulfur dioxide: 계수 = -0.1094, 절편 = 0.1394\n",
            "특징: total sulfur dioxide: 계수 = -0.4821, 절편 = 0.1342\n",
            "특징: density: 계수 = -0.3153, 절편 = 0.1425\n",
            "특징: pH: 계수 = -0.0157, 절편 = 0.1395\n",
            "특징: sulphates: 계수 = 0.5713, 절편 = 0.1649\n",
            "특징: alcohol: 계수 = 1.0729, 절편 = 0.2174\n",
            "특징: Cluster: 계수 = 0.0173, 절편 = 0.1396\n"
          ]
        }
      ]
    },
    {
      "cell_type": "code",
      "metadata": {
        "colab": {
          "base_uri": "https://localhost:8080/"
        },
        "id": "6795ade9",
        "outputId": "5de23787-cff1-4116-819c-1accb3a1d7f6"
      },
      "source": [
        "# 다중 로지스틱 회귀 모델의 계수와 절편 확인\n",
        "coefficients = logistic_model.coef_[0]\n",
        "intercept = logistic_model.intercept_[0]\n",
        "features = X_clf.columns # X_clf는 모델 훈련에 사용된 특징\n",
        "\n",
        "print(\"다중 로지스틱 회귀 모델의 특징별 계수:\")\n",
        "for feature, coef in zip(features, coefficients):\n",
        "    print(f\"  {feature}: {coef:.4f}\")\n",
        "\n",
        "print(f\"\\n다중 로지스틱 회귀 모델의 절편: {intercept:.4f}\")"
      ],
      "execution_count": 106,
      "outputs": [
        {
          "output_type": "stream",
          "name": "stdout",
          "text": [
            "다중 로지스틱 회귀 모델의 특징별 계수:\n",
            "  fixed acidity: 0.0951\n",
            "  volatile acidity: -2.8199\n",
            "  citric acid: -0.8504\n",
            "  residual sugar: 0.0443\n",
            "  chlorides: -1.0197\n",
            "  free sulfur dioxide: 0.0286\n",
            "  total sulfur dioxide: -0.0174\n",
            "  density: -0.0443\n",
            "  pH: -0.3796\n",
            "  sulphates: 2.1205\n",
            "  alcohol: 0.8931\n",
            "  Cluster: -0.0249\n",
            "\n",
            "다중 로지스틱 회귀 모델의 절편: -7.9075\n"
          ]
        }
      ]
    }
  ]
}