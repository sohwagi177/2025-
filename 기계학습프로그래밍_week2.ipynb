{
  "nbformat": 4,
  "nbformat_minor": 0,
  "metadata": {
    "colab": {
      "provenance": []
    },
    "kernelspec": {
      "name": "python3",
      "display_name": "Python 3"
    },
    "language_info": {
      "name": "python"
    }
  },
  "cells": [
    {
      "cell_type": "code",
      "execution_count": 5,
      "metadata": {
        "id": "XnjF3ZpBSqov",
        "colab": {
          "base_uri": "https://localhost:8080/"
        },
        "outputId": "17558330-efdd-4ce5-846d-aad2313d2e2a"
      },
      "outputs": [
        {
          "output_type": "stream",
          "name": "stdout",
          "text": [
            "✅ 혼동행렬\n",
            "[[56  2]\n",
            " [10  6]]\n",
            "\n",
            "✅ 분류 리포트\n",
            "              precision    recall  f1-score   support\n",
            "\n",
            "           0       0.85      0.97      0.90        58\n",
            "           1       0.75      0.38      0.50        16\n",
            "\n",
            "    accuracy                           0.84        74\n",
            "   macro avg       0.80      0.67      0.70        74\n",
            "weighted avg       0.83      0.84      0.82        74\n",
            "\n"
          ]
        }
      ],
      "source": [
        "import pandas as pd\n",
        "import numpy as np\n",
        "from sklearn.model_selection import train_test_split\n",
        "from sklearn.preprocessing import StandardScaler, LabelEncoder\n",
        "from sklearn.impute import SimpleImputer\n",
        "from sklearn.neighbors import KNeighborsClassifier\n",
        "from sklearn.metrics import classification_report, confusion_matrix\n",
        "\n",
        "file_path = '/content/drive/MyDrive/weather.csv'\n",
        "df = pd.read_csv(file_path)\n",
        "\n",
        "# 1. 독립변수/종속변수 분리\n",
        "X = df.drop(\"RainTomorrow\", axis=1)\n",
        "y = df[\"RainTomorrow\"]\n",
        "\n",
        "# 2. 범주형 변수 처리 (Label Encoding)\n",
        "for col in X.select_dtypes(include=[\"object\"]).columns:\n",
        "    X[col] = LabelEncoder().fit_transform(X[col].astype(str))\n",
        "\n",
        "y = LabelEncoder().fit_transform(y.astype(str))  # Yes/No → 1/0\n",
        "\n",
        "# 3. 결측치 처리 (평균 대체)\n",
        "imputer = SimpleImputer(strategy=\"mean\")\n",
        "X = imputer.fit_transform(X)\n",
        "\n",
        "# 4. 표준화\n",
        "scaler = StandardScaler()\n",
        "X_scaled = scaler.fit_transform(X)\n",
        "\n",
        "# 5. train/test 분리\n",
        "X_train, X_test, y_train, y_test = train_test_split(\n",
        "    X_scaled, y, test_size=0.2, random_state=42\n",
        ")\n",
        "\n",
        "# 6. K-NN 모델 학습\n",
        "knn = KNeighborsClassifier(n_neighbors=5)\n",
        "knn.fit(X_train, y_train)\n",
        "\n",
        "# 7. 예측 및 평가\n",
        "y_pred = knn.predict(X_test)\n",
        "\n",
        "print(\"✅ 혼동행렬\")\n",
        "print(confusion_matrix(y_test, y_pred))\n",
        "\n",
        "print(\"\\n✅ 분류 리포트\")\n",
        "print(classification_report(y_test, y_pred))\n",
        "\n",
        "\n"
      ]
    },
    {
      "cell_type": "code",
      "metadata": {
        "colab": {
          "base_uri": "https://localhost:8080/"
        },
        "id": "f48c9e53",
        "outputId": "a0c098ad-a6fa-4858-81c7-2d9574389b95"
      },
      "source": [
        "from sklearn.metrics import accuracy_score\n",
        "\n",
        "# Explore different k values\n",
        "k_values = range(1, 21)\n",
        "accuracy_scores = []\n",
        "\n",
        "for k in k_values:\n",
        "    # Train KNN model with current k\n",
        "    knn = KNeighborsClassifier(n_neighbors=k)\n",
        "    knn.fit(X_train, y_train)\n",
        "\n",
        "    # Predict and evaluate\n",
        "    y_pred = knn.predict(X_test)\n",
        "    accuracy = accuracy_score(y_test, y_pred)\n",
        "    accuracy_scores.append(accuracy)\n",
        "\n",
        "# Display the accuracy scores for each k\n",
        "for k, accuracy in zip(k_values, accuracy_scores):\n",
        "    print(f\"k = {k}: Accuracy = {accuracy:.4f}\")"
      ],
      "execution_count": 8,
      "outputs": [
        {
          "output_type": "stream",
          "name": "stdout",
          "text": [
            "k = 1: Accuracy = 0.7838\n",
            "k = 2: Accuracy = 0.8108\n",
            "k = 3: Accuracy = 0.8108\n",
            "k = 4: Accuracy = 0.8378\n",
            "k = 5: Accuracy = 0.8378\n",
            "k = 6: Accuracy = 0.8378\n",
            "k = 7: Accuracy = 0.8378\n",
            "k = 8: Accuracy = 0.8378\n",
            "k = 9: Accuracy = 0.8514\n",
            "k = 10: Accuracy = 0.8514\n",
            "k = 11: Accuracy = 0.8649\n",
            "k = 12: Accuracy = 0.8378\n",
            "k = 13: Accuracy = 0.8514\n",
            "k = 14: Accuracy = 0.8378\n",
            "k = 15: Accuracy = 0.8378\n",
            "k = 16: Accuracy = 0.8378\n",
            "k = 17: Accuracy = 0.8378\n",
            "k = 18: Accuracy = 0.8108\n",
            "k = 19: Accuracy = 0.8243\n",
            "k = 20: Accuracy = 0.8243\n"
          ]
        }
      ]
    },
    {
      "cell_type": "code",
      "metadata": {
        "colab": {
          "base_uri": "https://localhost:8080/"
        },
        "id": "b98a77b0",
        "outputId": "6100b4f6-7069-4995-aed9-8cf50dff4cd2"
      },
      "source": [
        "# Train KNN model with the best k (k=11)\n",
        "best_k = 11\n",
        "knn_best = KNeighborsClassifier(n_neighbors=best_k)\n",
        "knn_best.fit(X_train, y_train)\n",
        "\n",
        "# Predict and evaluate\n",
        "y_pred_best = knn_best.predict(X_test)\n",
        "\n",
        "print(f\"✅ 혼동행렬 (k={best_k})\")\n",
        "print(confusion_matrix(y_test, y_pred_best))\n",
        "\n",
        "print(f\"\\n✅ 분류 리포트 (k={best_k})\")\n",
        "print(classification_report(y_test, y_pred_best))"
      ],
      "execution_count": 11,
      "outputs": [
        {
          "output_type": "stream",
          "name": "stdout",
          "text": [
            "✅ 혼동행렬 (k=11)\n",
            "[[58  0]\n",
            " [10  6]]\n",
            "\n",
            "✅ 분류 리포트 (k=11)\n",
            "              precision    recall  f1-score   support\n",
            "\n",
            "           0       0.85      1.00      0.92        58\n",
            "           1       1.00      0.38      0.55        16\n",
            "\n",
            "    accuracy                           0.86        74\n",
            "   macro avg       0.93      0.69      0.73        74\n",
            "weighted avg       0.88      0.86      0.84        74\n",
            "\n"
          ]
        }
      ]
    },
    {
      "cell_type": "code",
      "source": [],
      "metadata": {
        "id": "7CZlmx_aYDE7"
      },
      "execution_count": null,
      "outputs": []
    }
  ]
}